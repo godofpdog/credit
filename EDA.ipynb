{
 "cells": [
  {
   "cell_type": "markdown",
   "metadata": {},
   "source": [
    "### TODO\n",
    "* get_target_category_by_column 加入各類別總次數"
   ]
  },
  {
   "cell_type": "code",
   "execution_count": 1,
   "metadata": {},
   "outputs": [],
   "source": [
    "import numpy as np \n",
    "import pandas as pd \n",
    "import matplotlib.pyplot as plt\n",
    "\n",
    "from collections import Counter\n",
    "from src.modules import EDA\n",
    "\n",
    "pd.set_option('display.max_columns', None)\n",
    "plt.subplots_adjust(wspace=10, hspace=0)"
   ]
  },
  {
   "cell_type": "code",
   "execution_count": 2,
   "metadata": {},
   "outputs": [],
   "source": [
    "train_path = 'data/train.csv'\n",
    "test_path = 'data/test.csv'\n",
    "\n",
    "eda = EDA(train_path, test_path)"
   ]
  },
  {
   "cell_type": "markdown",
   "metadata": {},
   "source": [
    "## (0) fraud_ind (target)\n",
    "* 只有約1.35%為盜刷"
   ]
  },
  {
   "cell_type": "code",
   "execution_count": 3,
   "metadata": {},
   "outputs": [
    {
     "name": "stdout",
     "output_type": "stream",
     "text": [
      "20355\n",
      "1501432\n",
      "0.013557057529078907\n"
     ]
    }
   ],
   "source": [
    "print(eda.group_by_target.get_group(1).shape[0])\n",
    "print(eda.group_by_target.get_group(0).shape[0])\n",
    "print(20355 / 1501432)"
   ]
  },
  {
   "cell_type": "code",
   "execution_count": 28,
   "metadata": {},
   "outputs": [
    {
     "data": {
      "text/plain": [
       "(1521787, 24)"
      ]
     },
     "execution_count": 28,
     "metadata": {},
     "output_type": "execute_result"
    }
   ],
   "source": [
    "eda.train_data.shape"
   ]
  },
  {
   "cell_type": "markdown",
   "metadata": {},
   "source": [
    "## (1) acqic 收單行代碼\n",
    "### featire engineering\n",
    "* intersection\n",
    "* target encoding"
   ]
  },
  {
   "cell_type": "code",
   "execution_count": 4,
   "metadata": {},
   "outputs": [
    {
     "name": "stdout",
     "output_type": "stream",
     "text": [
      "Train :  [False]\n",
      "Test  :  [False]\n"
     ]
    }
   ],
   "source": [
    "eda.check_na('acqic')"
   ]
  },
  {
   "cell_type": "code",
   "execution_count": 5,
   "metadata": {},
   "outputs": [
    {
     "name": "stdout",
     "output_type": "stream",
     "text": [
      "Colname :　acqic\n",
      "Number of train unique : 6051\n",
      "Number of test unique  : 3748\n"
     ]
    }
   ],
   "source": [
    "eda.get_num_unique('acqic')"
   ]
  },
  {
   "cell_type": "code",
   "execution_count": 47,
   "metadata": {},
   "outputs": [
    {
     "data": {
      "image/png": "[encoded data removed]",
      "text/plain": [
       "<Figure size 432x288 with 2 Axes>"
      ]
     },
     "metadata": {
      "needs_background": "light"
     },
     "output_type": "display_data"
    }
   ],
   "source": [
    "eda.hist('acqic')"
   ]
  },
  {
   "cell_type": "code",
   "execution_count": 7,
   "metadata": {},
   "outputs": [
    {
     "name": "stdout",
     "output_type": "stream",
     "text": [
      "Number of intersection category: 2933\n",
      "Intersection Ratio : \n",
      "Train : 0.4847132705337961\n",
      "Test  : 0.7825506937033084\n"
     ]
    }
   ],
   "source": [
    "eda.get_num_intersection('acqic')"
   ]
  },
  {
   "cell_type": "code",
   "execution_count": 8,
   "metadata": {},
   "outputs": [
    {
     "data": {
      "text/plain": [
       "6866"
      ]
     },
     "execution_count": 8,
     "metadata": {},
     "output_type": "execute_result"
    }
   ],
   "source": [
    "len(eda.get_union('acqic'))"
   ]
  },
  {
   "cell_type": "code",
   "execution_count": 4,
   "metadata": {},
   "outputs": [
    {
     "data": {
      "text/plain": [
       "[(3348, 4031),\n",
       " (3221, 2455),\n",
       " (6215, 2080),\n",
       " (6540, 1669),\n",
       " (5720, 1194),\n",
       " (6760, 943),\n",
       " (3207, 686),\n",
       " (6331, 337),\n",
       " (6769, 261),\n",
       " (3288, 246)]"
      ]
     },
     "execution_count": 4,
     "metadata": {},
     "output_type": "execute_result"
    }
   ],
   "source": [
    "eda.get_target_category_by_column('acqic', 10)"
   ]
  },
  {
   "cell_type": "markdown",
   "metadata": {},
   "source": [
    "#### 差集"
   ]
  },
  {
   "cell_type": "code",
   "execution_count": 5,
   "metadata": {},
   "outputs": [
    {
     "name": "stdout",
     "output_type": "stream",
     "text": [
      "3118\n",
      "815\n"
     ]
    }
   ],
   "source": [
    "train_set = set(np.unique(eda.train_data['acqic']))\n",
    "test_set = set(np.unique(eda.test_data['acqic']))\n",
    "\n",
    "print(len(train_set - test_set))\n",
    "print(len(test_set - train_set))"
   ]
  },
  {
   "cell_type": "markdown",
   "metadata": {},
   "source": [
    "### 盜刷與非盜刷分布\n",
    "* overview\n",
    "* 各組金額統計量"
   ]
  },
  {
   "cell_type": "code",
   "execution_count": 3,
   "metadata": {},
   "outputs": [
    {
     "data": {
      "text/plain": [
       "<matplotlib.axes._subplots.AxesSubplot at 0x1c4c29b1390>"
      ]
     },
     "execution_count": 3,
     "metadata": {},
     "output_type": "execute_result"
    },
    {
     "data": {
      "image/png": "[encoded data removed]",
      "text/plain": [
       "<Figure size 432x288 with 1 Axes>"
      ]
     },
     "metadata": {
      "needs_background": "light"
     },
     "output_type": "display_data"
    }
   ],
   "source": [
    "eda.fraud_records.acqic.hist()"
   ]
  },
  {
   "cell_type": "code",
   "execution_count": 4,
   "metadata": {},
   "outputs": [
    {
     "data": {
      "text/plain": [
       "<matplotlib.axes._subplots.AxesSubplot at 0x1c4d53742e8>"
      ]
     },
     "execution_count": 4,
     "metadata": {},
     "output_type": "execute_result"
    },
    {
     "data": {
      "image/png": "[encoded data removed]",
      "text/plain": [
       "<Figure size 432x288 with 1 Axes>"
      ]
     },
     "metadata": {
      "needs_background": "light"
     },
     "output_type": "display_data"
    }
   ],
   "source": [
    "eda.not_fraud_records.acqic.hist()"
   ]
  },
  {
   "cell_type": "markdown",
   "metadata": {},
   "source": [
    "#### 各組金額統計量"
   ]
  },
  {
   "cell_type": "code",
   "execution_count": 3,
   "metadata": {},
   "outputs": [
    {
     "data": {
      "image/png": "[encoded data removed]",
      "text/plain": [
       "<Figure size 720x720 with 6 Axes>"
      ]
     },
     "metadata": {
      "needs_background": "light"
     },
     "output_type": "display_data"
    }
   ],
   "source": [
    "eda.group_stat_hist(group_colname='acqic', stat_colname='conam')"
   ]
  },
  {
   "cell_type": "markdown",
   "metadata": {},
   "source": [
    "## (2) bacno 歸戶帳號 \n",
    "* 根據身分證\n",
    "* 歸戶帳號下可能有多的卡號\n",
    "\n",
    "### 檢查train/test重複程度\n",
    "* 發現只有3128個帳號有交集(交集率低)，其中有495個帳號(約2.43%)為盜刷，高於整體盜刷率"
   ]
  },
  {
   "cell_type": "code",
   "execution_count": 11,
   "metadata": {},
   "outputs": [
    {
     "name": "stdout",
     "output_type": "stream",
     "text": [
      "Train :  [False]\n",
      "Test  :  [False]\n"
     ]
    }
   ],
   "source": [
    "eda.check_na('bacno')"
   ]
  },
  {
   "cell_type": "code",
   "execution_count": 12,
   "metadata": {},
   "outputs": [
    {
     "name": "stdout",
     "output_type": "stream",
     "text": [
      "Number of intersection category: 3128\n",
      "Intersection Ratio : \n",
      "Train : 0.03285231163484362\n",
      "Test  : 0.04399499289722781\n"
     ]
    }
   ],
   "source": [
    "eda.get_num_intersection('bacno')"
   ]
  },
  {
   "cell_type": "code",
   "execution_count": 13,
   "metadata": {},
   "outputs": [
    {
     "name": "stdout",
     "output_type": "stream",
     "text": [
      "495 fraud records.\n",
      "fraud rate : 0.02431834929992631\n"
     ]
    }
   ],
   "source": [
    "eda.get_target_ratio('bacno', eda.get_intersection('bacno'))"
   ]
  },
  {
   "cell_type": "code",
   "execution_count": 6,
   "metadata": {},
   "outputs": [
    {
     "data": {
      "text/plain": [
       "[(36103, 94),\n",
       " (156870, 85),\n",
       " (159452, 82),\n",
       " (118402, 79),\n",
       " (140259, 75),\n",
       " (46582, 65),\n",
       " (77441, 63),\n",
       " (91688, 62),\n",
       " (107667, 61),\n",
       " (97832, 56)]"
      ]
     },
     "execution_count": 6,
     "metadata": {},
     "output_type": "execute_result"
    }
   ],
   "source": [
    "eda.get_target_category_by_column('bacno', 10)"
   ]
  },
  {
   "cell_type": "markdown",
   "metadata": {},
   "source": [
    "#### 各組金額統計量"
   ]
  },
  {
   "cell_type": "code",
   "execution_count": 4,
   "metadata": {},
   "outputs": [
    {
     "data": {
      "image/png": "[encoded data removed]",
      "text/plain": [
       "<Figure size 720x720 with 6 Axes>"
      ]
     },
     "metadata": {
      "needs_background": "light"
     },
     "output_type": "display_data"
    }
   ],
   "source": [
    "eda.group_stat_hist(group_colname='bacno', stat_colname='conam')"
   ]
  },
  {
   "cell_type": "markdown",
   "metadata": {},
   "source": [
    "#### 各組時間統計量"
   ]
  },
  {
   "cell_type": "code",
   "execution_count": 3,
   "metadata": {},
   "outputs": [
    {
     "data": {
      "image/png": "[encoded data removed]",
      "text/plain": [
       "<Figure size 720x720 with 6 Axes>"
      ]
     },
     "metadata": {
      "needs_background": "light"
     },
     "output_type": "display_data"
    }
   ],
   "source": [
    "eda.group_stat_hist(group_colname='bacno', stat_colname='time')"
   ]
  },
  {
   "cell_type": "code",
   "execution_count": 21,
   "metadata": {},
   "outputs": [],
   "source": [
    "# from collections import Counter\n",
    "# def counter(arr):\n",
    "#     return list[Counter(arr.values).most_common(1)] # 返回出现频率最高的两个数\n",
    "\n",
    "# counter(eda.fraud_records[group_colname])"
   ]
  },
  {
   "cell_type": "code",
   "execution_count": 22,
   "metadata": {},
   "outputs": [],
   "source": [
    "# group_colname = 'bacno'\n",
    "# stat_colname = 'time'\n",
    "\n",
    "\n",
    "# fig , ax = plt.subplots(1, 2, figsize=(10, 3))\n",
    "# ax[0].hist(eda.fraud_records.groupby(group_colname)[stat_colname].transform(counter), density=True)\n",
    "# ax[0].set_title('fraud (count)')\n",
    "# ax[0].grid()\n",
    "\n",
    "# ax[1].hist(eda.not_fraud_records.groupby(group_colname)[stat_colname].transform(counter), density=True)\n",
    "# ax[1].set_title('fraud (count)')\n",
    "# ax[1].grid()"
   ]
  },
  {
   "cell_type": "markdown",
   "metadata": {},
   "source": [
    "#### 差集"
   ]
  },
  {
   "cell_type": "code",
   "execution_count": 7,
   "metadata": {},
   "outputs": [
    {
     "name": "stdout",
     "output_type": "stream",
     "text": [
      "92086\n",
      "67971\n"
     ]
    }
   ],
   "source": [
    "train_set = set(np.unique(eda.train_data['bacno']))\n",
    "test_set = set(np.unique(eda.test_data['bacno']))\n",
    "\n",
    "print(len(train_set - test_set))\n",
    "print(len(test_set - train_set))"
   ]
  },
  {
   "cell_type": "markdown",
   "metadata": {},
   "source": [
    "## (3) cano 交易卡號\n",
    "* 會有重複交易的卡號\n",
    "* 有8730種盜刷卡號\n",
    "\n",
    "### 檢查train/test重複程度\n",
    "* 發現有3763個卡號有交集(交集率低)，其中有495個帳號(約1.08%)為盜刷，低於整體盜刷率"
   ]
  },
  {
   "cell_type": "code",
   "execution_count": 21,
   "metadata": {},
   "outputs": [
    {
     "name": "stdout",
     "output_type": "stream",
     "text": [
      "Train :  [False]\n",
      "Test  :  [False]\n"
     ]
    }
   ],
   "source": [
    "eda.check_na('cano')"
   ]
  },
  {
   "cell_type": "code",
   "execution_count": 14,
   "metadata": {},
   "outputs": [
    {
     "name": "stdout",
     "output_type": "stream",
     "text": [
      "Number of intersection category: 3763\n",
      "Intersection Ratio : \n",
      "Train : 0.029077449715252716\n",
      "Test  : 0.04334853930513317\n"
     ]
    }
   ],
   "source": [
    "eda.get_num_intersection('cano')"
   ]
  },
  {
   "cell_type": "code",
   "execution_count": 15,
   "metadata": {},
   "outputs": [
    {
     "name": "stdout",
     "output_type": "stream",
     "text": [
      "220 fraud records.\n",
      "fraud rate : 0.010808155244411692\n"
     ]
    }
   ],
   "source": [
    "eda.get_target_ratio('cano', eda.get_intersection('cano'))"
   ]
  },
  {
   "cell_type": "markdown",
   "metadata": {},
   "source": [
    "#### 差集"
   ]
  },
  {
   "cell_type": "code",
   "execution_count": 8,
   "metadata": {},
   "outputs": [
    {
     "name": "stdout",
     "output_type": "stream",
     "text": [
      "125650\n",
      "83045\n"
     ]
    }
   ],
   "source": [
    "train_set = set(np.unique(eda.train_data['cano']))\n",
    "test_set = set(np.unique(eda.test_data['cano']))\n",
    "\n",
    "print(len(train_set - test_set))\n",
    "print(len(test_set - train_set))"
   ]
  },
  {
   "cell_type": "markdown",
   "metadata": {},
   "source": [
    "## (4) conam 交易金額-台幣(經過轉換) \n",
    "* 偏鋒\n",
    "* 盜刷與非盜刷交易金額分布很不同\n",
    "* 盜刷多為小金額，最高3353.25"
   ]
  },
  {
   "cell_type": "code",
   "execution_count": 22,
   "metadata": {},
   "outputs": [
    {
     "name": "stdout",
     "output_type": "stream",
     "text": [
      "Train :  [False]\n",
      "Test  :  [False]\n"
     ]
    }
   ],
   "source": [
    "eda.check_na('conam')"
   ]
  },
  {
   "cell_type": "code",
   "execution_count": 16,
   "metadata": {},
   "outputs": [
    {
     "data": {
      "image/png": "[encoded data removed]",
      "text/plain": [
       "<Figure size 432x288 with 2 Axes>"
      ]
     },
     "metadata": {
      "needs_background": "light"
     },
     "output_type": "display_data"
    }
   ],
   "source": [
    "eda.hist('conam')"
   ]
  },
  {
   "cell_type": "code",
   "execution_count": 18,
   "metadata": {},
   "outputs": [
    {
     "name": "stdout",
     "output_type": "stream",
     "text": [
      "3353.25\n",
      "7208.77\n"
     ]
    }
   ],
   "source": [
    "print(eda.fraud_records.conam.max())\n",
    "print(eda.not_fraud_records.conam.max())"
   ]
  },
  {
   "cell_type": "code",
   "execution_count": 10,
   "metadata": {},
   "outputs": [
    {
     "data": {
      "text/plain": [
       "<matplotlib.axes._subplots.AxesSubplot at 0x24c05c9ab00>"
      ]
     },
     "execution_count": 10,
     "metadata": {},
     "output_type": "execute_result"
    },
    {
     "data": {
      "image/png": "[encoded data removed]",
      "text/plain": [
       "<Figure size 432x288 with 1 Axes>"
      ]
     },
     "metadata": {
      "needs_background": "light"
     },
     "output_type": "display_data"
    }
   ],
   "source": [
    "eda.fraud_records.conam.hist()"
   ]
  },
  {
   "cell_type": "code",
   "execution_count": 11,
   "metadata": {},
   "outputs": [
    {
     "data": {
      "text/plain": [
       "<matplotlib.axes._subplots.AxesSubplot at 0x24c05b825c0>"
      ]
     },
     "execution_count": 11,
     "metadata": {},
     "output_type": "execute_result"
    },
    {
     "data": {
      "image/png": "[encoded data removed]",
      "text/plain": [
       "<Figure size 432x288 with 1 Axes>"
      ]
     },
     "metadata": {
      "needs_background": "light"
     },
     "output_type": "display_data"
    }
   ],
   "source": [
    "eda.not_fraud_records.conam.hist()"
   ]
  },
  {
   "cell_type": "markdown",
   "metadata": {},
   "source": [
    "## (5) contp 交易類別\n",
    "* 集中在5、4"
   ]
  },
  {
   "cell_type": "code",
   "execution_count": 23,
   "metadata": {},
   "outputs": [
    {
     "name": "stdout",
     "output_type": "stream",
     "text": [
      "Train :  [False]\n",
      "Test  :  [False]\n"
     ]
    }
   ],
   "source": [
    "eda.check_na('contp')"
   ]
  },
  {
   "cell_type": "code",
   "execution_count": 24,
   "metadata": {},
   "outputs": [
    {
     "name": "stdout",
     "output_type": "stream",
     "text": [
      "Colname :　contp\n",
      "Number of train unique : 7\n",
      "Number of test unique  : 7\n"
     ]
    }
   ],
   "source": [
    "eda.get_num_unique('contp')"
   ]
  },
  {
   "cell_type": "code",
   "execution_count": 45,
   "metadata": {},
   "outputs": [
    {
     "data": {
      "image/png": "[encoded data removed]",
      "text/plain": [
       "<Figure size 432x288 with 2 Axes>"
      ]
     },
     "metadata": {
      "needs_background": "light"
     },
     "output_type": "display_data"
    }
   ],
   "source": [
    "eda.hist('contp')"
   ]
  },
  {
   "cell_type": "code",
   "execution_count": 12,
   "metadata": {},
   "outputs": [
    {
     "data": {
      "text/plain": [
       "<matplotlib.axes._subplots.AxesSubplot at 0x24c059d41d0>"
      ]
     },
     "execution_count": 12,
     "metadata": {},
     "output_type": "execute_result"
    },
    {
     "data": {
      "image/png": "[encoded data removed]",
      "text/plain": [
       "<Figure size 432x288 with 1 Axes>"
      ]
     },
     "metadata": {
      "needs_background": "light"
     },
     "output_type": "display_data"
    }
   ],
   "source": [
    "eda.fraud_records.contp.hist(bins=7)"
   ]
  },
  {
   "cell_type": "code",
   "execution_count": 26,
   "metadata": {},
   "outputs": [
    {
     "data": {
      "text/plain": [
       "<matplotlib.axes._subplots.AxesSubplot at 0x27cc599d860>"
      ]
     },
     "execution_count": 26,
     "metadata": {},
     "output_type": "execute_result"
    },
    {
     "data": {
      "image/png": "[encoded data removed]",
      "text/plain": [
       "<Figure size 432x288 with 1 Axes>"
      ]
     },
     "metadata": {
      "needs_background": "light"
     },
     "output_type": "display_data"
    }
   ],
   "source": [
    "eda.not_fraud_records.contp.hist(bins=7)"
   ]
  },
  {
   "cell_type": "markdown",
   "metadata": {},
   "source": [
    "#### 各組金額統計量\n",
    "* max、min分布差異大"
   ]
  },
  {
   "cell_type": "code",
   "execution_count": 5,
   "metadata": {},
   "outputs": [
    {
     "data": {
      "image/png": "[encoded data removed]",
      "text/plain": [
       "<Figure size 720x720 with 6 Axes>"
      ]
     },
     "metadata": {
      "needs_background": "light"
     },
     "output_type": "display_data"
    }
   ],
   "source": [
    "eda.group_stat_hist(group_colname='contp', stat_colname='conam')"
   ]
  },
  {
   "cell_type": "code",
   "execution_count": 28,
   "metadata": {},
   "outputs": [
    {
     "data": {
      "text/plain": [
       "[(5, 19553), (4, 777), (3, 14), (2, 8), (6, 3)]"
      ]
     },
     "execution_count": 28,
     "metadata": {},
     "output_type": "execute_result"
    }
   ],
   "source": [
    "eda.get_target_category_by_column('contp', 10)"
   ]
  },
  {
   "cell_type": "markdown",
   "metadata": {},
   "source": [
    "## (6) csmcu 消費地幣別 \n",
    "* 只有62、61有盜刷紀錄較多\n",
    "* 有45種幣別有盜刷紀錄\n",
    "* 盜刷率高的幣別的消費金額較低\n",
    "\n",
    "### feature engineering\n",
    "* taget encoding\n",
    "* 45種以外歸類不同\n",
    "* groupby + max money"
   ]
  },
  {
   "cell_type": "code",
   "execution_count": 51,
   "metadata": {},
   "outputs": [
    {
     "name": "stdout",
     "output_type": "stream",
     "text": [
      "Train :  [False]\n",
      "Test  :  [False]\n"
     ]
    }
   ],
   "source": [
    "eda.check_na('csmcu')"
   ]
  },
  {
   "cell_type": "code",
   "execution_count": 29,
   "metadata": {},
   "outputs": [
    {
     "name": "stdout",
     "output_type": "stream",
     "text": [
      "Train : \n",
      "[(62, 1246042), (0, 176278), (61, 34160), (13, 17376), (75, 12581), (26, 12373), (71, 7371), (60, 3550), (4, 1606), (20, 1542)]\n",
      "Test\n",
      "[(62, 342492), (0, 49513), (61, 10687), (13, 5830), (75, 3715), (26, 3378), (71, 2066), (60, 671), (4, 502), (29, 437)]\n"
     ]
    }
   ],
   "source": [
    "csmcu_counter_train = Counter(eda.train_data.csmcu.values)\n",
    "print('Train : ')\n",
    "print(csmcu_counter_train.most_common(10))\n",
    "\n",
    "csmcu_counter_test = Counter(eda.test_data.csmcu.values)\n",
    "print('Test')\n",
    "print(csmcu_counter_test.most_common(10))"
   ]
  },
  {
   "cell_type": "code",
   "execution_count": 30,
   "metadata": {},
   "outputs": [
    {
     "name": "stdout",
     "output_type": "stream",
     "text": [
      "Colname :　csmcu\n",
      "Number of train unique : 72\n",
      "Number of test unique  : 57\n"
     ]
    }
   ],
   "source": [
    "eda.get_num_unique('csmcu')"
   ]
  },
  {
   "cell_type": "code",
   "execution_count": 31,
   "metadata": {},
   "outputs": [
    {
     "name": "stdout",
     "output_type": "stream",
     "text": [
      "Number of intersection category: 53\n",
      "Intersection Ratio : \n",
      "Train : 0.7361111111111112\n",
      "Test  : 0.9298245614035088\n"
     ]
    }
   ],
   "source": [
    "eda.get_num_intersection('csmcu')"
   ]
  },
  {
   "cell_type": "code",
   "execution_count": 32,
   "metadata": {},
   "outputs": [
    {
     "name": "stdout",
     "output_type": "stream",
     "text": [
      "41 fraud records.\n",
      "fraud rate : 0.00201424711373127\n"
     ]
    }
   ],
   "source": [
    "eda.get_target_ratio('csmcu', eda.get_intersection('csmcu'))"
   ]
  },
  {
   "cell_type": "code",
   "execution_count": 33,
   "metadata": {},
   "outputs": [
    {
     "data": {
      "text/plain": [
       "[(62, 8947),\n",
       " (61, 6885),\n",
       " (60, 1082),\n",
       " (71, 631),\n",
       " (26, 626),\n",
       " (4, 530),\n",
       " (10, 457),\n",
       " (20, 245),\n",
       " (75, 195),\n",
       " (0, 190)]"
      ]
     },
     "execution_count": 33,
     "metadata": {},
     "output_type": "execute_result"
    }
   ],
   "source": [
    "eda.get_target_category_by_column('csmcu', 10)"
   ]
  },
  {
   "cell_type": "code",
   "execution_count": 48,
   "metadata": {},
   "outputs": [
    {
     "data": {
      "text/plain": [
       "[]"
      ]
     },
     "execution_count": 48,
     "metadata": {},
     "output_type": "execute_result"
    },
    {
     "data": {
      "image/png": "[encoded data removed]",
      "text/plain": [
       "<Figure size 720x216 with 5 Axes>"
      ]
     },
     "metadata": {
      "needs_background": "light"
     },
     "output_type": "display_data"
    }
   ],
   "source": [
    "fig , ax = plt.subplots(1, 5, figsize=(10, 3))\n",
    "ax[0].set_title('csmcu : 62')\n",
    "ax[0].hist(eda.train_data.groupby('csmcu').get_group(62).conam.dropna())\n",
    "ax[0].grid()\n",
    "ax[1].set_title('csmcu : 61')\n",
    "ax[1].hist(eda.train_data.groupby('csmcu').get_group(61).conam.dropna())\n",
    "ax[1].grid()\n",
    "ax[2].set_title('csmcu : 60')\n",
    "ax[2].hist(eda.train_data.groupby('csmcu').get_group(60).conam.dropna())\n",
    "ax[2].grid()\n",
    "ax[3].set_title('csmcu : 71')\n",
    "ax[3].hist(eda.train_data.groupby('csmcu').get_group(71).conam.dropna())\n",
    "ax[3].grid()\n",
    "ax[4].set_title('csmcu : 26')\n",
    "ax[4].hist(eda.train_data.groupby('csmcu').get_group(26).conam.dropna())\n",
    "ax[4].grid()\n",
    "plt.plot()"
   ]
  },
  {
   "cell_type": "markdown",
   "metadata": {},
   "source": [
    "#### 各組金額統計量"
   ]
  },
  {
   "cell_type": "code",
   "execution_count": 39,
   "metadata": {},
   "outputs": [
    {
     "data": {
      "image/png": "[encoded data removed]",
      "text/plain": [
       "<Figure size 720x720 with 6 Axes>"
      ]
     },
     "metadata": {
      "needs_background": "light"
     },
     "output_type": "display_data"
    }
   ],
   "source": [
    "eda.group_stat_hist(group_colname='csmcu', stat_colname='conam')"
   ]
  },
  {
   "cell_type": "markdown",
   "metadata": {},
   "source": [
    "#### 差集"
   ]
  },
  {
   "cell_type": "code",
   "execution_count": 7,
   "metadata": {},
   "outputs": [
    {
     "name": "stdout",
     "output_type": "stream",
     "text": [
      "19\n",
      "4\n"
     ]
    }
   ],
   "source": [
    "train_set = set(np.unique(eda.train_data['csmcu']))\n",
    "test_set = set(np.unique(eda.test_data['csmcu']))\n",
    "\n",
    "print(len(train_set - test_set))\n",
    "print(len(test_set - train_set))"
   ]
  },
  {
   "cell_type": "markdown",
   "metadata": {},
   "source": [
    "## (7) ecfg 網路交易註記\n",
    "* 大多盜刷紀錄都是網路交易"
   ]
  },
  {
   "cell_type": "code",
   "execution_count": 50,
   "metadata": {},
   "outputs": [
    {
     "name": "stdout",
     "output_type": "stream",
     "text": [
      "Train :  [False]\n",
      "Test  :  [False]\n"
     ]
    }
   ],
   "source": [
    "eda.check_na('ecfg')"
   ]
  },
  {
   "cell_type": "code",
   "execution_count": 49,
   "metadata": {},
   "outputs": [
    {
     "name": "stdout",
     "output_type": "stream",
     "text": [
      "Colname :　ecfg\n",
      "Number of train unique : 2\n",
      "Number of test unique  : 2\n"
     ]
    }
   ],
   "source": [
    "eda.get_num_unique('ecfg')"
   ]
  },
  {
   "cell_type": "code",
   "execution_count": 52,
   "metadata": {},
   "outputs": [
    {
     "data": {
      "image/png": "[encoded data removed]",
      "text/plain": [
       "<Figure size 432x288 with 2 Axes>"
      ]
     },
     "metadata": {
      "needs_background": "light"
     },
     "output_type": "display_data"
    }
   ],
   "source": [
    "eda.hist('ecfg')"
   ]
  },
  {
   "cell_type": "code",
   "execution_count": 6,
   "metadata": {},
   "outputs": [
    {
     "data": {
      "image/png": "[encoded data removed]",
      "text/plain": [
       "<Figure size 720x720 with 6 Axes>"
      ]
     },
     "metadata": {
      "needs_background": "light"
     },
     "output_type": "display_data"
    }
   ],
   "source": [
    "eda.group_stat_hist(group_colname='ecfg', stat_colname='conam')"
   ]
  },
  {
   "cell_type": "code",
   "execution_count": null,
   "metadata": {},
   "outputs": [],
   "source": [
    "eda.group_stat_hist(group_colname='ecfg', stat_colname='conam')"
   ]
  },
  {
   "cell_type": "code",
   "execution_count": 53,
   "metadata": {},
   "outputs": [
    {
     "data": {
      "text/plain": [
       "[('Y', 17493), ('N', 2862)]"
      ]
     },
     "execution_count": 53,
     "metadata": {},
     "output_type": "execute_result"
    }
   ],
   "source": [
    "eda.get_target_category_by_column('ecfg')"
   ]
  },
  {
   "cell_type": "markdown",
   "metadata": {},
   "source": [
    "## (8) etymd 交易型態\n",
    "* 大部分盜刷交易型態為 8、2"
   ]
  },
  {
   "cell_type": "code",
   "execution_count": 54,
   "metadata": {},
   "outputs": [
    {
     "name": "stdout",
     "output_type": "stream",
     "text": [
      "Train :  [False]\n",
      "Test  :  [False]\n"
     ]
    }
   ],
   "source": [
    "eda.check_na('etymd')"
   ]
  },
  {
   "cell_type": "code",
   "execution_count": 55,
   "metadata": {},
   "outputs": [
    {
     "name": "stdout",
     "output_type": "stream",
     "text": [
      "Colname :　etymd\n",
      "Number of train unique : 11\n",
      "Number of test unique  : 11\n"
     ]
    }
   ],
   "source": [
    "eda.get_num_unique('etymd')"
   ]
  },
  {
   "cell_type": "code",
   "execution_count": 56,
   "metadata": {},
   "outputs": [
    {
     "data": {
      "image/png": "[encoded data removed]",
      "text/plain": [
       "<Figure size 432x288 with 2 Axes>"
      ]
     },
     "metadata": {
      "needs_background": "light"
     },
     "output_type": "display_data"
    }
   ],
   "source": [
    "eda.hist('etymd')"
   ]
  },
  {
   "cell_type": "code",
   "execution_count": 57,
   "metadata": {},
   "outputs": [
    {
     "data": {
      "text/plain": [
       "[(8, 11568),\n",
       " (2, 7804),\n",
       " (5, 203),\n",
       " (0, 183),\n",
       " (4, 175),\n",
       " (9, 170),\n",
       " (6, 145),\n",
       " (7, 67),\n",
       " (1, 23),\n",
       " (3, 17)]"
      ]
     },
     "execution_count": 57,
     "metadata": {},
     "output_type": "execute_result"
    }
   ],
   "source": [
    "eda.get_target_category_by_column('etymd')"
   ]
  },
  {
   "cell_type": "markdown",
   "metadata": {},
   "source": [
    "## (9) flbmk Fallback 註記 \n",
    "* 有na\n",
    "* 幾乎都是N\n",
    "* 比例上來看na和Y的盜刷率高"
   ]
  },
  {
   "cell_type": "code",
   "execution_count": 58,
   "metadata": {},
   "outputs": [
    {
     "name": "stdout",
     "output_type": "stream",
     "text": [
      "Train :  [False  True]\n",
      "Test  :  [False  True]\n"
     ]
    }
   ],
   "source": [
    "eda.check_na('flbmk')"
   ]
  },
  {
   "cell_type": "code",
   "execution_count": 59,
   "metadata": {},
   "outputs": [
    {
     "data": {
      "image/png": "[encoded data removed]",
      "text/plain": [
       "<Figure size 432x288 with 2 Axes>"
      ]
     },
     "metadata": {
      "needs_background": "light"
     },
     "output_type": "display_data"
    }
   ],
   "source": [
    "eda.hist('flbmk')"
   ]
  },
  {
   "cell_type": "code",
   "execution_count": 60,
   "metadata": {},
   "outputs": [
    {
     "data": {
      "text/plain": [
       "[('N', 20073), (nan, 195), ('Y', 87)]"
      ]
     },
     "execution_count": 60,
     "metadata": {},
     "output_type": "execute_result"
    }
   ],
   "source": [
    "eda.get_target_category_by_column('flbmk')"
   ]
  },
  {
   "cell_type": "code",
   "execution_count": 61,
   "metadata": {},
   "outputs": [
    {
     "name": "stdout",
     "output_type": "stream",
     "text": [
      "102.93846153846154\n",
      "230.72413793103448\n"
     ]
    }
   ],
   "source": [
    "print(20073 / 195)\n",
    "print(20073 / 87)"
   ]
  },
  {
   "cell_type": "markdown",
   "metadata": {},
   "source": [
    "## (10) flg_3dsmk 3DS 交易註記 \n",
    "* 有na\n",
    "* na數和flbmk一樣\n",
    "* 大多為N"
   ]
  },
  {
   "cell_type": "code",
   "execution_count": 62,
   "metadata": {},
   "outputs": [
    {
     "name": "stdout",
     "output_type": "stream",
     "text": [
      "Train :  [False  True]\n",
      "Test  :  [False  True]\n"
     ]
    }
   ],
   "source": [
    "eda.check_na('flg_3dsmk')"
   ]
  },
  {
   "cell_type": "code",
   "execution_count": 63,
   "metadata": {},
   "outputs": [
    {
     "data": {
      "image/png": "[encoded data removed]",
      "text/plain": [
       "<Figure size 432x288 with 2 Axes>"
      ]
     },
     "metadata": {
      "needs_background": "light"
     },
     "output_type": "display_data"
    }
   ],
   "source": [
    "eda.hist('flg_3dsmk')"
   ]
  },
  {
   "cell_type": "code",
   "execution_count": 64,
   "metadata": {},
   "outputs": [
    {
     "data": {
      "text/plain": [
       "[('N', 20060), (nan, 195), ('Y', 100)]"
      ]
     },
     "execution_count": 64,
     "metadata": {},
     "output_type": "execute_result"
    }
   ],
   "source": [
    "eda.get_target_category_by_column('flg_3dsmk')"
   ]
  },
  {
   "cell_type": "code",
   "execution_count": 65,
   "metadata": {},
   "outputs": [
    {
     "data": {
      "text/plain": [
       "[('N', 1444867), ('Y', 64339), (nan, 12581)]"
      ]
     },
     "execution_count": 65,
     "metadata": {},
     "output_type": "execute_result"
    }
   ],
   "source": [
    "flg_3dsmk_counter = Counter(eda.train_data.flg_3dsmk)\n",
    "flg_3dsmk_counter.most_common()"
   ]
  },
  {
   "cell_type": "code",
   "execution_count": 66,
   "metadata": {},
   "outputs": [
    {
     "name": "stdout",
     "output_type": "stream",
     "text": [
      "22.45709445282022\n",
      "114.84516334154678\n"
     ]
    }
   ],
   "source": [
    "print(1444867 / 64339)\n",
    "print(1444867 / 12581)"
   ]
  },
  {
   "cell_type": "code",
   "execution_count": 67,
   "metadata": {},
   "outputs": [
    {
     "name": "stdout",
     "output_type": "stream",
     "text": [
      "102.87179487179488\n",
      "200.6\n"
     ]
    }
   ],
   "source": [
    "print(20060 / 195)\n",
    "print(20060 / 100)"
   ]
  },
  {
   "cell_type": "markdown",
   "metadata": {},
   "source": [
    "## (11) 支付形態 \n",
    "* test多了類別4 (有十筆)\n",
    "* 盜刷幾乎都是類別5"
   ]
  },
  {
   "cell_type": "code",
   "execution_count": 69,
   "metadata": {},
   "outputs": [
    {
     "name": "stdout",
     "output_type": "stream",
     "text": [
      "Train :  [False]\n",
      "Test  :  [False]\n"
     ]
    }
   ],
   "source": [
    "eda.check_na('hcefg')"
   ]
  },
  {
   "cell_type": "code",
   "execution_count": 68,
   "metadata": {},
   "outputs": [
    {
     "name": "stdout",
     "output_type": "stream",
     "text": [
      "Colname :　hcefg\n",
      "Number of train unique : 9\n",
      "Number of test unique  : 10\n"
     ]
    }
   ],
   "source": [
    "eda.get_num_unique('hcefg')"
   ]
  },
  {
   "cell_type": "code",
   "execution_count": 70,
   "metadata": {},
   "outputs": [
    {
     "data": {
      "text/plain": [
       "10"
      ]
     },
     "execution_count": 70,
     "metadata": {},
     "output_type": "execute_result"
    }
   ],
   "source": [
    "len(eda.test_data.hcefg[eda.test_data.hcefg == 4])"
   ]
  },
  {
   "cell_type": "code",
   "execution_count": 71,
   "metadata": {},
   "outputs": [
    {
     "data": {
      "text/plain": [
       "[(5, 20109), (6, 195), (1, 26), (0, 21), (7, 4)]"
      ]
     },
     "execution_count": 71,
     "metadata": {},
     "output_type": "execute_result"
    }
   ],
   "source": [
    "eda.get_target_category_by_column('hcefg')"
   ]
  },
  {
   "cell_type": "markdown",
   "metadata": {},
   "source": [
    "## (12) insfg 分期交易註記 \n",
    "* 盜刷紀錄中大多為N"
   ]
  },
  {
   "cell_type": "code",
   "execution_count": 72,
   "metadata": {},
   "outputs": [
    {
     "name": "stdout",
     "output_type": "stream",
     "text": [
      "Train :  [False]\n",
      "Test  :  [False]\n"
     ]
    }
   ],
   "source": [
    "eda.check_na('insfg')"
   ]
  },
  {
   "cell_type": "code",
   "execution_count": 73,
   "metadata": {},
   "outputs": [
    {
     "name": "stdout",
     "output_type": "stream",
     "text": [
      "Colname :　insfg\n",
      "Number of train unique : 2\n",
      "Number of test unique  : 2\n"
     ]
    }
   ],
   "source": [
    "eda.get_num_unique('insfg')"
   ]
  },
  {
   "cell_type": "code",
   "execution_count": 74,
   "metadata": {},
   "outputs": [
    {
     "data": {
      "image/png": "[encoded data removed]",
      "text/plain": [
       "<Figure size 432x288 with 2 Axes>"
      ]
     },
     "metadata": {
      "needs_background": "light"
     },
     "output_type": "display_data"
    }
   ],
   "source": [
    "eda.hist('insfg')"
   ]
  },
  {
   "cell_type": "code",
   "execution_count": 77,
   "metadata": {},
   "outputs": [
    {
     "data": {
      "text/plain": [
       "[('N', 1479475), ('Y', 42312)]"
      ]
     },
     "execution_count": 77,
     "metadata": {},
     "output_type": "execute_result"
    }
   ],
   "source": [
    "insfg_counter = Counter(eda.train_data.insfg)\n",
    "insfg_counter.most_common()"
   ]
  },
  {
   "cell_type": "code",
   "execution_count": 78,
   "metadata": {},
   "outputs": [
    {
     "data": {
      "text/plain": [
       "34.96584893174513"
      ]
     },
     "execution_count": 78,
     "metadata": {},
     "output_type": "execute_result"
    }
   ],
   "source": [
    "1479475 / 42312"
   ]
  },
  {
   "cell_type": "code",
   "execution_count": 79,
   "metadata": {},
   "outputs": [
    {
     "data": {
      "text/plain": [
       "[('N', 20318), ('Y', 37)]"
      ]
     },
     "execution_count": 79,
     "metadata": {},
     "output_type": "execute_result"
    }
   ],
   "source": [
    "eda.get_target_category_by_column('insfg')"
   ]
  },
  {
   "cell_type": "code",
   "execution_count": 80,
   "metadata": {},
   "outputs": [
    {
     "data": {
      "text/plain": [
       "549.1351351351351"
      ]
     },
     "execution_count": 80,
     "metadata": {},
     "output_type": "execute_result"
    }
   ],
   "source": [
    "20318 / 37"
   ]
  },
  {
   "cell_type": "markdown",
   "metadata": {},
   "source": [
    "## (13) iterm 分期期數 \n",
    "* 盜刷幾乎都是0類別\n",
    "\n",
    "### TODO \n",
    "* 觀察2、3、4類別特徵"
   ]
  },
  {
   "cell_type": "code",
   "execution_count": 81,
   "metadata": {},
   "outputs": [
    {
     "name": "stdout",
     "output_type": "stream",
     "text": [
      "Train :  [False]\n",
      "Test  :  [False]\n"
     ]
    }
   ],
   "source": [
    "eda.check_na('iterm')"
   ]
  },
  {
   "cell_type": "code",
   "execution_count": 82,
   "metadata": {},
   "outputs": [
    {
     "name": "stdout",
     "output_type": "stream",
     "text": [
      "Colname :　iterm\n",
      "Number of train unique : 9\n",
      "Number of test unique  : 9\n"
     ]
    }
   ],
   "source": [
    "eda.get_num_unique('iterm')"
   ]
  },
  {
   "cell_type": "code",
   "execution_count": 83,
   "metadata": {},
   "outputs": [
    {
     "data": {
      "image/png": "[encoded data removed]",
      "text/plain": [
       "<Figure size 432x288 with 2 Axes>"
      ]
     },
     "metadata": {
      "needs_background": "light"
     },
     "output_type": "display_data"
    }
   ],
   "source": [
    "eda.hist('iterm')"
   ]
  },
  {
   "cell_type": "code",
   "execution_count": 93,
   "metadata": {},
   "outputs": [
    {
     "data": {
      "text/plain": [
       "[(0, 20318), (2, 34), (1, 2), (4, 1)]"
      ]
     },
     "execution_count": 93,
     "metadata": {},
     "output_type": "execute_result"
    }
   ],
   "source": [
    "eda.get_target_category_by_column('iterm')"
   ]
  },
  {
   "cell_type": "markdown",
   "metadata": {},
   "source": [
    "## (14) locdt 授權日期 \n",
    "* 訓練集的授權日期為1~90，共90天的信用卡授權交易紀錄"
   ]
  },
  {
   "cell_type": "markdown",
   "metadata": {},
   "source": [
    "## (15) loctm 授權時間 \n",
    "* 需轉換\n",
    "* 盜刷與非盜刷時間分布不一樣"
   ]
  },
  {
   "cell_type": "code",
   "execution_count": 85,
   "metadata": {},
   "outputs": [
    {
     "name": "stdout",
     "output_type": "stream",
     "text": [
      "Train :  [False]\n",
      "Test  :  [False]\n"
     ]
    }
   ],
   "source": [
    "eda.check_na('loctm')"
   ]
  },
  {
   "cell_type": "code",
   "execution_count": 86,
   "metadata": {},
   "outputs": [
    {
     "name": "stdout",
     "output_type": "stream",
     "text": [
      "Colname :　loctm\n",
      "Number of train unique : 84810\n",
      "Number of test unique  : 75210\n"
     ]
    }
   ],
   "source": [
    "eda.get_num_unique('loctm')"
   ]
  },
  {
   "cell_type": "code",
   "execution_count": 87,
   "metadata": {},
   "outputs": [
    {
     "name": "stdout",
     "output_type": "stream",
     "text": [
      "235959.0\n",
      "0.0\n"
     ]
    }
   ],
   "source": [
    "print(np.max(np.unique(eda.train_data.loctm.values)))\n",
    "print(np.min(np.unique(eda.train_data.loctm.values)))"
   ]
  },
  {
   "cell_type": "code",
   "execution_count": 90,
   "metadata": {},
   "outputs": [
    {
     "data": {
      "text/plain": [
       "<matplotlib.axes._subplots.AxesSubplot at 0x27cd14509e8>"
      ]
     },
     "execution_count": 90,
     "metadata": {},
     "output_type": "execute_result"
    },
    {
     "data": {
      "image/png": "[encoded data removed]",
      "text/plain": [
       "<Figure size 432x288 with 1 Axes>"
      ]
     },
     "metadata": {
      "needs_background": "light"
     },
     "output_type": "display_data"
    }
   ],
   "source": [
    "eda.train_data.loctm.apply(eda.convert_time).hist(bins=24)"
   ]
  },
  {
   "cell_type": "code",
   "execution_count": 126,
   "metadata": {},
   "outputs": [
    {
     "data": {
      "text/plain": [
       "0          17.4478\n",
       "1          10.8539\n",
       "2          15.4161\n",
       "3          17.4961\n",
       "4          18.3581\n",
       "            ...   \n",
       "1521782    19.2783\n",
       "1521783    10.3939\n",
       "1521784    23.7717\n",
       "1521785    21.8717\n",
       "1521786    16.6008\n",
       "Name: loctm, Length: 1521787, dtype: float64"
      ]
     },
     "execution_count": 126,
     "metadata": {},
     "output_type": "execute_result"
    }
   ],
   "source": [
    "eda.train_data.loctm.apply(eda.convert_time)"
   ]
  },
  {
   "cell_type": "markdown",
   "metadata": {},
   "source": [
    "#### 盜刷時間分布\n",
    "* 集中在半夜"
   ]
  },
  {
   "cell_type": "code",
   "execution_count": 91,
   "metadata": {},
   "outputs": [
    {
     "data": {
      "text/plain": [
       "<matplotlib.axes._subplots.AxesSubplot at 0x27cc647ada0>"
      ]
     },
     "execution_count": 91,
     "metadata": {},
     "output_type": "execute_result"
    },
    {
     "data": {
      "image/png": "[encoded data removed]",
      "text/plain": [
       "<Figure size 432x288 with 1 Axes>"
      ]
     },
     "metadata": {
      "needs_background": "light"
     },
     "output_type": "display_data"
    }
   ],
   "source": [
    "eda.fraud_records.loctm.apply(eda.convert_time).hist(bins=24)"
   ]
  },
  {
   "cell_type": "markdown",
   "metadata": {},
   "source": [
    "#### 非盜刷時間分布"
   ]
  },
  {
   "cell_type": "code",
   "execution_count": 92,
   "metadata": {},
   "outputs": [
    {
     "data": {
      "text/plain": [
       "<matplotlib.axes._subplots.AxesSubplot at 0x27cc637fa58>"
      ]
     },
     "execution_count": 92,
     "metadata": {},
     "output_type": "execute_result"
    },
    {
     "data": {
      "image/png": "[encoded data removed]",
      "text/plain": [
       "<Figure size 432x288 with 1 Axes>"
      ]
     },
     "metadata": {
      "needs_background": "light"
     },
     "output_type": "display_data"
    }
   ],
   "source": [
    "eda.not_fraud_records.loctm.apply(eda.convert_time).hist(bins=24)"
   ]
  },
  {
   "cell_type": "markdown",
   "metadata": {},
   "source": [
    "## (16) mcc MCC_CODE "
   ]
  },
  {
   "cell_type": "code",
   "execution_count": 95,
   "metadata": {},
   "outputs": [
    {
     "name": "stdout",
     "output_type": "stream",
     "text": [
      "Train :  [False]\n",
      "Test  :  [False]\n"
     ]
    }
   ],
   "source": [
    "eda.check_na('mcc')"
   ]
  },
  {
   "cell_type": "code",
   "execution_count": 94,
   "metadata": {},
   "outputs": [
    {
     "name": "stdout",
     "output_type": "stream",
     "text": [
      "Colname :　mcc\n",
      "Number of train unique : 434\n",
      "Number of test unique  : 372\n"
     ]
    }
   ],
   "source": [
    "eda.get_num_unique('mcc')"
   ]
  },
  {
   "cell_type": "code",
   "execution_count": 96,
   "metadata": {},
   "outputs": [
    {
     "data": {
      "image/png": "[encoded data removed]",
      "text/plain": [
       "<Figure size 432x288 with 2 Axes>"
      ]
     },
     "metadata": {
      "needs_background": "light"
     },
     "output_type": "display_data"
    }
   ],
   "source": [
    "eda.hist('mcc')"
   ]
  },
  {
   "cell_type": "code",
   "execution_count": 97,
   "metadata": {},
   "outputs": [
    {
     "name": "stdout",
     "output_type": "stream",
     "text": [
      "184 fraud records.\n",
      "fraud rate : 0.00903954802259887\n"
     ]
    }
   ],
   "source": [
    "eda.get_target_ratio('mcc', eda.get_intersection('mcc'))"
   ]
  },
  {
   "cell_type": "code",
   "execution_count": 98,
   "metadata": {},
   "outputs": [
    {
     "data": {
      "text/plain": [
       "[(251, 193332),\n",
       " (247, 141106),\n",
       " (263, 108297),\n",
       " (457, 103307),\n",
       " (292, 74036),\n",
       " (264, 65846),\n",
       " (343, 60033),\n",
       " (451, 44515),\n",
       " (380, 43252),\n",
       " (289, 39989)]"
      ]
     },
     "execution_count": 98,
     "metadata": {},
     "output_type": "execute_result"
    }
   ],
   "source": [
    "mcc_counter = Counter(eda.train_data.mcc)\n",
    "mcc_counter.most_common(10)"
   ]
  },
  {
   "cell_type": "code",
   "execution_count": 99,
   "metadata": {},
   "outputs": [
    {
     "data": {
      "text/plain": [
       "[(289, 3789),\n",
       " (380, 3403),\n",
       " (288, 2631),\n",
       " (192, 2623),\n",
       " (203, 490),\n",
       " (337, 414),\n",
       " (286, 410),\n",
       " (296, 382),\n",
       " (408, 375),\n",
       " (277, 366)]"
      ]
     },
     "execution_count": 99,
     "metadata": {},
     "output_type": "execute_result"
    }
   ],
   "source": [
    "eda.get_target_category_by_column('mcc', 10)"
   ]
  },
  {
   "cell_type": "markdown",
   "metadata": {},
   "source": [
    "#### 差集"
   ]
  },
  {
   "cell_type": "code",
   "execution_count": 26,
   "metadata": {},
   "outputs": [
    {
     "name": "stdout",
     "output_type": "stream",
     "text": [
      "88\n",
      "26\n"
     ]
    }
   ],
   "source": [
    "train_set = set(np.unique(eda.train_data['mcc']))\n",
    "test_set = set(np.unique(eda.test_data['mcc']))\n",
    "\n",
    "print(len(train_set - test_set))\n",
    "print(len(test_set - train_set))"
   ]
  },
  {
   "cell_type": "markdown",
   "metadata": {},
   "source": [
    "## (17) mchno 特店代號\n",
    "* 有交集的類別有4%的盜刷率\n",
    "* 盜刷可能集中在少數店家"
   ]
  },
  {
   "cell_type": "code",
   "execution_count": 100,
   "metadata": {},
   "outputs": [
    {
     "name": "stdout",
     "output_type": "stream",
     "text": [
      "Colname :　mchno\n",
      "Number of train unique : 89316\n",
      "Number of test unique  : 45501\n"
     ]
    }
   ],
   "source": [
    "eda.get_num_unique('mchno')"
   ]
  },
  {
   "cell_type": "code",
   "execution_count": 101,
   "metadata": {},
   "outputs": [
    {
     "data": {
      "text/plain": [
       "102783"
      ]
     },
     "execution_count": 101,
     "metadata": {},
     "output_type": "execute_result"
    }
   ],
   "source": [
    "len(eda.get_union('mchno'))"
   ]
  },
  {
   "cell_type": "code",
   "execution_count": 102,
   "metadata": {},
   "outputs": [
    {
     "name": "stdout",
     "output_type": "stream",
     "text": [
      "827 fraud records.\n",
      "fraud rate : 0.04062883812331122\n"
     ]
    }
   ],
   "source": [
    "eda.get_target_ratio('mchno', eda.get_intersection('mchno'))"
   ]
  },
  {
   "cell_type": "code",
   "execution_count": 103,
   "metadata": {},
   "outputs": [
    {
     "data": {
      "text/plain": [
       "[(54238, 3289),\n",
       " (54828, 2681),\n",
       " (55807, 2189),\n",
       " (45597, 1103),\n",
       " (67588, 791),\n",
       " (66634, 738),\n",
       " (20984, 330),\n",
       " (11801, 241),\n",
       " (69240, 208),\n",
       " (79663, 191)]"
      ]
     },
     "execution_count": 103,
     "metadata": {},
     "output_type": "execute_result"
    }
   ],
   "source": [
    "eda.get_target_category_by_column('mchno', 10)"
   ]
  },
  {
   "cell_type": "markdown",
   "metadata": {},
   "source": [
    "#### 差集"
   ]
  },
  {
   "cell_type": "code",
   "execution_count": 23,
   "metadata": {},
   "outputs": [
    {
     "name": "stdout",
     "output_type": "stream",
     "text": [
      "57282\n",
      "13467\n"
     ]
    }
   ],
   "source": [
    "train_set = set(np.unique(eda.train_data['mchno']))\n",
    "test_set = set(np.unique(eda.test_data['mchno']))\n",
    "\n",
    "print(len(train_set - test_set))\n",
    "print(len(test_set - train_set))"
   ]
  },
  {
   "cell_type": "markdown",
   "metadata": {},
   "source": [
    "### (18) ovrlt 超額註記碼\n",
    "* 盜刷的N/Y比較低"
   ]
  },
  {
   "cell_type": "code",
   "execution_count": 104,
   "metadata": {},
   "outputs": [
    {
     "name": "stdout",
     "output_type": "stream",
     "text": [
      "Train :  [False]\n",
      "Test  :  [False]\n"
     ]
    }
   ],
   "source": [
    "eda.check_na('ovrlt')"
   ]
  },
  {
   "cell_type": "code",
   "execution_count": 105,
   "metadata": {},
   "outputs": [
    {
     "data": {
      "image/png": "[encoded data removed]",
      "text/plain": [
       "<Figure size 432x288 with 2 Axes>"
      ]
     },
     "metadata": {
      "needs_background": "light"
     },
     "output_type": "display_data"
    }
   ],
   "source": [
    "eda.hist('ovrlt')"
   ]
  },
  {
   "cell_type": "code",
   "execution_count": 106,
   "metadata": {},
   "outputs": [
    {
     "data": {
      "text/plain": [
       "[('N', 19720), ('Y', 635)]"
      ]
     },
     "execution_count": 106,
     "metadata": {},
     "output_type": "execute_result"
    }
   ],
   "source": [
    "eda.get_target_category_by_column('ovrlt')"
   ]
  },
  {
   "cell_type": "code",
   "execution_count": 107,
   "metadata": {},
   "outputs": [
    {
     "data": {
      "text/plain": [
       "[('N', 1501536), ('Y', 20251)]"
      ]
     },
     "execution_count": 107,
     "metadata": {},
     "output_type": "execute_result"
    }
   ],
   "source": [
    "ovrlt_counter = Counter(eda.train_data.ovrlt)\n",
    "ovrlt_counter.most_common()"
   ]
  },
  {
   "cell_type": "code",
   "execution_count": 108,
   "metadata": {},
   "outputs": [
    {
     "data": {
      "text/plain": [
       "74.14626438200582"
      ]
     },
     "execution_count": 108,
     "metadata": {},
     "output_type": "execute_result"
    }
   ],
   "source": [
    "1501536 / 20251"
   ]
  },
  {
   "cell_type": "markdown",
   "metadata": {},
   "source": [
    "## (19) scity 消費城市\n",
    "* 1908個類別交集，這消類別的盜刷率為2.5%"
   ]
  },
  {
   "cell_type": "code",
   "execution_count": 109,
   "metadata": {},
   "outputs": [
    {
     "name": "stdout",
     "output_type": "stream",
     "text": [
      "Train :  [False]\n",
      "Test  :  [False]\n"
     ]
    }
   ],
   "source": [
    "eda.check_na('scity')"
   ]
  },
  {
   "cell_type": "code",
   "execution_count": 110,
   "metadata": {},
   "outputs": [
    {
     "name": "stdout",
     "output_type": "stream",
     "text": [
      "Colname :　scity\n",
      "Number of train unique : 5698\n",
      "Number of test unique  : 2857\n"
     ]
    }
   ],
   "source": [
    "eda.get_num_unique('scity')"
   ]
  },
  {
   "cell_type": "code",
   "execution_count": 111,
   "metadata": {},
   "outputs": [
    {
     "name": "stdout",
     "output_type": "stream",
     "text": [
      "509 fraud records.\n",
      "fraud rate : 0.025006140997297963\n"
     ]
    }
   ],
   "source": [
    "eda.get_target_ratio('scity', eda.get_intersection('scity'))"
   ]
  },
  {
   "cell_type": "code",
   "execution_count": 112,
   "metadata": {},
   "outputs": [
    {
     "data": {
      "text/plain": [
       "[(6580, 5657),\n",
       " (3460, 2682),\n",
       " (6593, 1545),\n",
       " (1337, 1103),\n",
       " (0, 801),\n",
       " (5817, 697),\n",
       " (5320, 518),\n",
       " (621, 480),\n",
       " (5932, 334),\n",
       " (1803, 260),\n",
       " (6576, 238),\n",
       " (1034, 187),\n",
       " (4528, 141),\n",
       " (1060, 139),\n",
       " (955, 139),\n",
       " (3150, 105),\n",
       " (668, 101),\n",
       " (376, 101),\n",
       " (3441, 90),\n",
       " (5324, 88)]"
      ]
     },
     "execution_count": 112,
     "metadata": {},
     "output_type": "execute_result"
    }
   ],
   "source": [
    "eda.get_target_category_by_column('scity', 20)"
   ]
  },
  {
   "cell_type": "markdown",
   "metadata": {},
   "source": [
    "#### 差集"
   ]
  },
  {
   "cell_type": "code",
   "execution_count": 24,
   "metadata": {},
   "outputs": [
    {
     "name": "stdout",
     "output_type": "stream",
     "text": [
      "3790\n",
      "949\n"
     ]
    }
   ],
   "source": [
    "train_set = set(np.unique(eda.train_data['scity']))\n",
    "test_set = set(np.unique(eda.test_data['scity']))\n",
    "\n",
    "print(len(train_set - test_set))\n",
    "print(len(test_set - train_set))"
   ]
  },
  {
   "cell_type": "markdown",
   "metadata": {},
   "source": [
    "## (20) stocn 消費地國別 \n",
    "\n",
    "### 檢查train/test重複程度\n",
    "* 發現有81個國別有交集，其中只有55個帳號(約0.27%)為盜刷\n",
    "* 有test獨有的類別\n",
    "\n",
    "### feature engineering\n",
    "* target encoding效果可能有限"
   ]
  },
  {
   "cell_type": "code",
   "execution_count": 113,
   "metadata": {},
   "outputs": [
    {
     "name": "stdout",
     "output_type": "stream",
     "text": [
      "Train :  [False]\n",
      "Test  :  [False]\n"
     ]
    }
   ],
   "source": [
    "eda.check_na('stocn')"
   ]
  },
  {
   "cell_type": "code",
   "execution_count": 114,
   "metadata": {},
   "outputs": [
    {
     "name": "stdout",
     "output_type": "stream",
     "text": [
      "Colname :　stocn\n",
      "Number of train unique : 103\n",
      "Number of test unique  : 87\n"
     ]
    }
   ],
   "source": [
    "eda.get_num_unique('stocn')"
   ]
  },
  {
   "cell_type": "code",
   "execution_count": 115,
   "metadata": {},
   "outputs": [
    {
     "data": {
      "text/plain": [
       "81"
      ]
     },
     "execution_count": 115,
     "metadata": {},
     "output_type": "execute_result"
    }
   ],
   "source": [
    "len(eda.get_intersection('stocn'))"
   ]
  },
  {
   "cell_type": "code",
   "execution_count": 116,
   "metadata": {},
   "outputs": [
    {
     "data": {
      "text/plain": [
       "109"
      ]
     },
     "execution_count": 116,
     "metadata": {},
     "output_type": "execute_result"
    }
   ],
   "source": [
    "len(eda.get_union('stocn'))"
   ]
  },
  {
   "cell_type": "code",
   "execution_count": 117,
   "metadata": {},
   "outputs": [
    {
     "name": "stdout",
     "output_type": "stream",
     "text": [
      "55 fraud records.\n",
      "fraud rate : 0.002702038811102923\n"
     ]
    }
   ],
   "source": [
    "eda.get_target_ratio('stocn', eda.get_intersection('stocn'))"
   ]
  },
  {
   "cell_type": "code",
   "execution_count": 25,
   "metadata": {},
   "outputs": [
    {
     "name": "stdout",
     "output_type": "stream",
     "text": [
      "22\n",
      "6\n"
     ]
    }
   ],
   "source": [
    "train_set = set(np.unique(eda.train_data['stocn']))\n",
    "test_set = set(np.unique(eda.test_data['stocn']))\n",
    "\n",
    "print(len(train_set - test_set))\n",
    "print(len(test_set - train_set))"
   ]
  },
  {
   "cell_type": "markdown",
   "metadata": {},
   "source": [
    "## (21) stscd 狀態碼 "
   ]
  },
  {
   "cell_type": "code",
   "execution_count": 118,
   "metadata": {},
   "outputs": [
    {
     "name": "stdout",
     "output_type": "stream",
     "text": [
      "Train :  [False]\n",
      "Test  :  [False]\n"
     ]
    }
   ],
   "source": [
    "eda.check_na('stscd')"
   ]
  },
  {
   "cell_type": "code",
   "execution_count": 119,
   "metadata": {},
   "outputs": [
    {
     "name": "stdout",
     "output_type": "stream",
     "text": [
      "Colname :　stscd\n",
      "Number of train unique : 5\n",
      "Number of test unique  : 5\n"
     ]
    }
   ],
   "source": [
    "eda.get_num_unique('stscd')"
   ]
  },
  {
   "cell_type": "code",
   "execution_count": 120,
   "metadata": {},
   "outputs": [
    {
     "data": {
      "image/png": "[encoded data removed]",
      "text/plain": [
       "<Figure size 432x288 with 2 Axes>"
      ]
     },
     "metadata": {
      "needs_background": "light"
     },
     "output_type": "display_data"
    }
   ],
   "source": [
    "eda.hist('stscd')"
   ]
  },
  {
   "cell_type": "code",
   "execution_count": 121,
   "metadata": {},
   "outputs": [
    {
     "data": {
      "text/plain": [
       "[(0, 1502745), (2, 18506), (1, 408), (3, 108), (4, 20)]"
      ]
     },
     "execution_count": 121,
     "metadata": {},
     "output_type": "execute_result"
    }
   ],
   "source": [
    "stscd_counter = Counter(eda.train_data.stscd)\n",
    "stscd_counter.most_common()"
   ]
  },
  {
   "cell_type": "code",
   "execution_count": 122,
   "metadata": {},
   "outputs": [
    {
     "data": {
      "text/plain": [
       "[(0, 14679), (2, 5651), (1, 25)]"
      ]
     },
     "execution_count": 122,
     "metadata": {},
     "output_type": "execute_result"
    }
   ],
   "source": [
    "eda.get_target_category_by_column('stscd', 20)"
   ]
  },
  {
   "cell_type": "markdown",
   "metadata": {},
   "source": [
    "## (22) txkey 交易序號 \n",
    "* 完全沒交集"
   ]
  },
  {
   "cell_type": "code",
   "execution_count": 27,
   "metadata": {},
   "outputs": [
    {
     "data": {
      "text/plain": [
       "0           516056\n",
       "1             4376\n",
       "2           483434\n",
       "3          1407164\n",
       "4          1051004\n",
       "            ...   \n",
       "1521782    1478280\n",
       "1521783     661087\n",
       "1521784     167073\n",
       "1521785     338215\n",
       "1521786    1055258\n",
       "Name: txkey, Length: 1521787, dtype: int64"
      ]
     },
     "execution_count": 27,
     "metadata": {},
     "output_type": "execute_result"
    }
   ],
   "source": [
    "eda.train_data.txkey"
   ]
  },
  {
   "cell_type": "code",
   "execution_count": 123,
   "metadata": {},
   "outputs": [
    {
     "name": "stdout",
     "output_type": "stream",
     "text": [
      "Train :  [False]\n",
      "Test  :  [False]\n"
     ]
    }
   ],
   "source": [
    "eda.check_na('txkey')"
   ]
  },
  {
   "cell_type": "code",
   "execution_count": 124,
   "metadata": {},
   "outputs": [
    {
     "name": "stdout",
     "output_type": "stream",
     "text": [
      "Colname :　txkey\n",
      "Number of train unique : 1521787\n",
      "Number of test unique  : 421665\n"
     ]
    }
   ],
   "source": [
    "eda.get_num_unique('txkey')"
   ]
  },
  {
   "cell_type": "code",
   "execution_count": 125,
   "metadata": {},
   "outputs": [
    {
     "data": {
      "text/plain": [
       "set()"
      ]
     },
     "execution_count": 125,
     "metadata": {},
     "output_type": "execute_result"
    }
   ],
   "source": [
    "eda.get_intersection('txkey')"
   ]
  }
 ],
 "metadata": {
  "kernelspec": {
   "display_name": "Python 3",
   "language": "python",
   "name": "python3"
  },
  "language_info": {
   "codemirror_mode": {
    "name": "ipython",
    "version": 3
   },
   "file_extension": ".py",
   "mimetype": "text/x-python",
   "name": "python",
   "nbconvert_exporter": "python",
   "pygments_lexer": "ipython3",
   "version": "3.6.3"
  }
 },
 "nbformat": 4,
 "nbformat_minor": 2
}
